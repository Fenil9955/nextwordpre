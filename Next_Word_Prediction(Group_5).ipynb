{
  "cells": [
    {
      "cell_type": "markdown",
      "metadata": {
        "id": "view-in-github",
        "colab_type": "text"
      },
      "source": [
        "<a href=\"https://colab.research.google.com/github/Sanket1909/nextwordpro/blob/main/Next_Word_Prediction(Group_5).ipynb\" target=\"_parent\"><img src=\"https://colab.research.google.com/assets/colab-badge.svg\" alt=\"Open In Colab\"/></a>"
      ]
    },
    {
      "cell_type": "markdown",
      "id": "037d80d7",
      "metadata": {
        "id": "037d80d7"
      },
      "source": [
        "# Importing necessary libraries"
      ]
    },
    {
      "cell_type": "code",
      "execution_count": null,
      "id": "3a38f3d7",
      "metadata": {
        "id": "3a38f3d7"
      },
      "outputs": [],
      "source": [
        "import numpy as np\n",
        "import tensorflow as tf\n",
        "\n",
        "from tensorflow.keras.utils import to_categorical\n",
        "from tensorflow.keras.preprocessing import text, sequence\n",
        "from tensorflow.keras import layers, models"
      ]
    },
    {
      "cell_type": "markdown",
      "id": "f9f6404f",
      "metadata": {
        "id": "f9f6404f"
      },
      "source": [
        "# Preprocessing data"
      ]
    },
    {
      "cell_type": "code",
      "execution_count": null,
      "id": "18ef7635",
      "metadata": {
        "id": "18ef7635"
      },
      "outputs": [],
      "source": [
        "# Read the file\n",
        "fp = open('dataset.txt','r')\n",
        "data = fp.read().splitlines()        \n",
        "fp.close()\n",
        "\n",
        "# Encode the data\n",
        "tokens = text.Tokenizer()\n",
        "tokens.fit_on_texts(data)\n",
        "data_sequences = tokens.texts_to_sequences(data)\n",
        "vocab_size = len(tokens.word_counts) + 1\n",
        "\n",
        "# generate the sequence\n",
        "seq_list = list()\n",
        "for item in data_sequences:\n",
        "    l = len(item)\n",
        "    for id in range(1, l):\n",
        "        seq_list.append(item[: id+1])\n",
        "        \n",
        "max_length = max([len(seq) for seq in seq_list])\n",
        "data_sequences_matrix = sequence.pad_sequences(seq_list, maxlen = max_length, padding = 'pre')\n",
        "data_sequences_matrix = np.array(data_sequences_matrix)\n",
        "\n",
        "# separate input data X and corresponding output y\n",
        "X = data_sequences_matrix[:, :-1]\n",
        "y = data_sequences_matrix[:, -1]\n",
        "y = to_categorical(y, num_classes = vocab_size)"
      ]
    },
    {
      "cell_type": "markdown",
      "id": "bedbfe2e",
      "metadata": {
        "id": "bedbfe2e"
      },
      "source": [
        "# RNN"
      ]
    },
    {
      "cell_type": "code",
      "execution_count": null,
      "id": "2c201027",
      "metadata": {
        "scrolled": true,
        "colab": {
          "base_uri": "https://localhost:8080/"
        },
        "id": "2c201027",
        "outputId": "3537a634-9503-49ae-b848-ec4b779710b2"
      },
      "outputs": [
        {
          "output_type": "stream",
          "name": "stdout",
          "text": [
            "Model: \"sequential\"\n",
            "_________________________________________________________________\n",
            " Layer (type)                Output Shape              Param #   \n",
            "=================================================================\n",
            " embedding (Embedding)       (None, 12, 10)            7420      \n",
            "                                                                 \n",
            " lstm (LSTM)                 (None, 50)                12200     \n",
            "                                                                 \n",
            " dropout (Dropout)           (None, 50)                0         \n",
            "                                                                 \n",
            " dense (Dense)               (None, 742)               37842     \n",
            "                                                                 \n",
            "=================================================================\n",
            "Total params: 57,462\n",
            "Trainable params: 57,462\n",
            "Non-trainable params: 0\n",
            "_________________________________________________________________\n"
          ]
        }
      ],
      "source": [
        "lstm_model = models.Sequential()\n",
        "lstm_model.add(layers.Input(shape = [max_length-1]))\n",
        "lstm_model.add(layers.Embedding(vocab_size, 10, input_length = max_length-1))\n",
        "lstm_model.add(layers.LSTM(50))\n",
        "lstm_model.add(layers.Dropout(0.1))               \n",
        "lstm_model.add(layers.Dense(vocab_size, activation = 'softmax'))\n",
        "lstm_model.summary()"
      ]
    },
    {
      "cell_type": "markdown",
      "id": "1d08828b",
      "metadata": {
        "id": "1d08828b"
      },
      "source": [
        "# Compiling and fitting on the training data"
      ]
    },
    {
      "cell_type": "code",
      "execution_count": null,
      "id": "7857eaba",
      "metadata": {
        "colab": {
          "base_uri": "https://localhost:8080/"
        },
        "id": "7857eaba",
        "outputId": "a645a1ac-d810-445f-fceb-5260ed68ad4c"
      },
      "outputs": [
        {
          "output_type": "stream",
          "name": "stdout",
          "text": [
            "Epoch 1/50\n",
            "927/927 [==============================] - 8s 7ms/step - loss: 6.2121 - accuracy: 0.0426\n",
            "Epoch 2/50\n",
            "927/927 [==============================] - 6s 6ms/step - loss: 5.7726 - accuracy: 0.0496\n",
            "Epoch 3/50\n",
            "927/927 [==============================] - 6s 7ms/step - loss: 5.5914 - accuracy: 0.0496\n",
            "Epoch 4/50\n",
            "927/927 [==============================] - 6s 6ms/step - loss: 5.4787 - accuracy: 0.0496\n",
            "Epoch 5/50\n",
            "927/927 [==============================] - 6s 7ms/step - loss: 5.3537 - accuracy: 0.0550\n",
            "Epoch 6/50\n",
            "927/927 [==============================] - 6s 6ms/step - loss: 5.1972 - accuracy: 0.0588\n",
            "Epoch 7/50\n",
            "927/927 [==============================] - 6s 7ms/step - loss: 5.0098 - accuracy: 0.0691\n",
            "Epoch 8/50\n",
            "927/927 [==============================] - 6s 6ms/step - loss: 4.8291 - accuracy: 0.0826\n",
            "Epoch 9/50\n",
            "927/927 [==============================] - 6s 7ms/step - loss: 4.6414 - accuracy: 0.0885\n",
            "Epoch 10/50\n",
            "927/927 [==============================] - 6s 6ms/step - loss: 4.4764 - accuracy: 0.1004\n",
            "Epoch 11/50\n",
            "927/927 [==============================] - 6s 7ms/step - loss: 4.3090 - accuracy: 0.1166\n",
            "Epoch 12/50\n",
            "927/927 [==============================] - 6s 6ms/step - loss: 4.1500 - accuracy: 0.1203\n",
            "Epoch 13/50\n",
            "927/927 [==============================] - 6s 7ms/step - loss: 4.0093 - accuracy: 0.1376\n",
            "Epoch 14/50\n",
            "927/927 [==============================] - 6s 6ms/step - loss: 3.8481 - accuracy: 0.1608\n",
            "Epoch 15/50\n",
            "927/927 [==============================] - 6s 7ms/step - loss: 3.7161 - accuracy: 0.1905\n",
            "Epoch 16/50\n",
            "927/927 [==============================] - 6s 6ms/step - loss: 3.5773 - accuracy: 0.2008\n",
            "Epoch 17/50\n",
            "927/927 [==============================] - 6s 7ms/step - loss: 3.4338 - accuracy: 0.2380\n",
            "Epoch 18/50\n",
            "927/927 [==============================] - 6s 6ms/step - loss: 3.3126 - accuracy: 0.2617\n",
            "Epoch 19/50\n",
            "927/927 [==============================] - 6s 7ms/step - loss: 3.1807 - accuracy: 0.2957\n",
            "Epoch 20/50\n",
            "927/927 [==============================] - 6s 6ms/step - loss: 3.0699 - accuracy: 0.3017\n",
            "Epoch 21/50\n",
            "927/927 [==============================] - 6s 7ms/step - loss: 2.9528 - accuracy: 0.3448\n",
            "Epoch 22/50\n",
            "927/927 [==============================] - 6s 6ms/step - loss: 2.8555 - accuracy: 0.3842\n",
            "Epoch 23/50\n",
            "927/927 [==============================] - 6s 7ms/step - loss: 2.7266 - accuracy: 0.3999\n",
            "Epoch 24/50\n",
            "927/927 [==============================] - 6s 6ms/step - loss: 2.6354 - accuracy: 0.4139\n",
            "Epoch 25/50\n",
            "927/927 [==============================] - 6s 7ms/step - loss: 2.5138 - accuracy: 0.4468\n",
            "Epoch 26/50\n",
            "927/927 [==============================] - 6s 6ms/step - loss: 2.4294 - accuracy: 0.4603\n",
            "Epoch 27/50\n",
            "927/927 [==============================] - 6s 7ms/step - loss: 2.3243 - accuracy: 0.5024\n",
            "Epoch 28/50\n",
            "927/927 [==============================] - 6s 6ms/step - loss: 2.2232 - accuracy: 0.5175\n",
            "Epoch 29/50\n",
            "927/927 [==============================] - 6s 7ms/step - loss: 2.1326 - accuracy: 0.5348\n",
            "Epoch 30/50\n",
            "927/927 [==============================] - 6s 6ms/step - loss: 2.0515 - accuracy: 0.5478\n",
            "Epoch 31/50\n",
            "927/927 [==============================] - 6s 7ms/step - loss: 1.9787 - accuracy: 0.5683\n",
            "Epoch 32/50\n",
            "927/927 [==============================] - 6s 6ms/step - loss: 1.9025 - accuracy: 0.5872\n",
            "Epoch 33/50\n",
            "927/927 [==============================] - 6s 7ms/step - loss: 1.8141 - accuracy: 0.6071\n",
            "Epoch 34/50\n",
            "927/927 [==============================] - 6s 6ms/step - loss: 1.7448 - accuracy: 0.6195\n",
            "Epoch 35/50\n",
            "927/927 [==============================] - 6s 7ms/step - loss: 1.6831 - accuracy: 0.6390\n",
            "Epoch 36/50\n",
            "927/927 [==============================] - 6s 6ms/step - loss: 1.6091 - accuracy: 0.6622\n",
            "Epoch 37/50\n",
            "927/927 [==============================] - 6s 6ms/step - loss: 1.5285 - accuracy: 0.6832\n",
            "Epoch 38/50\n",
            "927/927 [==============================] - 6s 6ms/step - loss: 1.4751 - accuracy: 0.6730\n",
            "Epoch 39/50\n",
            "927/927 [==============================] - 6s 6ms/step - loss: 1.4104 - accuracy: 0.7021\n",
            "Epoch 40/50\n",
            "927/927 [==============================] - 6s 6ms/step - loss: 1.3707 - accuracy: 0.7010\n",
            "Epoch 41/50\n",
            "927/927 [==============================] - 6s 6ms/step - loss: 1.3007 - accuracy: 0.7097\n",
            "Epoch 42/50\n",
            "927/927 [==============================] - 6s 6ms/step - loss: 1.2584 - accuracy: 0.7372\n",
            "Epoch 43/50\n",
            "927/927 [==============================] - 6s 6ms/step - loss: 1.2159 - accuracy: 0.7431\n",
            "Epoch 44/50\n",
            "927/927 [==============================] - 6s 7ms/step - loss: 1.1497 - accuracy: 0.7566\n",
            "Epoch 45/50\n",
            "927/927 [==============================] - 6s 6ms/step - loss: 1.1234 - accuracy: 0.7534\n",
            "Epoch 46/50\n",
            "927/927 [==============================] - 6s 7ms/step - loss: 1.0452 - accuracy: 0.7723\n",
            "Epoch 47/50\n",
            "927/927 [==============================] - 6s 6ms/step - loss: 1.0307 - accuracy: 0.7777\n",
            "Epoch 48/50\n",
            "927/927 [==============================] - 6s 6ms/step - loss: 0.9965 - accuracy: 0.7895\n",
            "Epoch 49/50\n",
            "927/927 [==============================] - 6s 6ms/step - loss: 0.9554 - accuracy: 0.7922\n",
            "Epoch 50/50\n",
            "927/927 [==============================] - 6s 6ms/step - loss: 0.9240 - accuracy: 0.8100\n"
          ]
        }
      ],
      "source": [
        "lstm_model.compile(loss = 'categorical_crossentropy', optimizer = 'adam', metrics = ['accuracy'])\n",
        "history = lstm_model.fit(X, y, batch_size = 2, epochs = 50)"
      ]
    },
    {
      "cell_type": "markdown",
      "id": "bff872da",
      "metadata": {
        "id": "bff872da"
      },
      "source": [
        "# Saving the model"
      ]
    },
    {
      "cell_type": "code",
      "execution_count": null,
      "id": "668f12e9",
      "metadata": {
        "scrolled": true,
        "id": "668f12e9"
      },
      "outputs": [],
      "source": [
        "lstm_model.save('model.h5')"
      ]
    },
    {
      "cell_type": "markdown",
      "id": "5f1b319e",
      "metadata": {
        "id": "5f1b319e"
      },
      "source": [
        "# Making Predictions"
      ]
    },
    {
      "cell_type": "code",
      "execution_count": null,
      "id": "04a5be5e",
      "metadata": {
        "id": "04a5be5e"
      },
      "outputs": [],
      "source": [
        "idx2word = {v:k for k,v in tokens.word_index.items()}\n",
        "new_model = models.load_model('./saved_model/')\n",
        "\n",
        "# function to make predictions, it takes text as input and predict *num_words* possible after this text\n",
        "def predict_words(text, num_words):\n",
        "    encoded_data = tokens.texts_to_sequences([text])[0]\n",
        "    padded_data = sequence.pad_sequences([encoded_data], maxlen = max_length - 1, padding = 'pre')\n",
        "    y_preds = new_model.predict(padded_data)\n",
        "    y_preds = np.argsort(-y_preds)\n",
        "    y_preds = y_preds[0][:num_words]\n",
        "    possible_words = [idx2word[item] for item in y_preds]\n",
        "    print(text, possible_words)"
      ]
    },
    {
      "cell_type": "code",
      "execution_count": null,
      "id": "73d12e76",
      "metadata": {
        "id": "73d12e76"
      },
      "outputs": [],
      "source": [
        "predict_words(\"Where is\", 3)\n",
        "predict_words(\"Find a\", 3)\n",
        "predict_words(\"What are\", 3)\n",
        "predict_words(\"I am not\", 3)\n",
        "predict_words(\"How to\", 3)"
      ]
    },
    {
      "cell_type": "code",
      "source": [
        "# Saving the model\n",
        "import os\n",
        "lstm_model.save('lstm_model.h5')\n"
      ],
      "metadata": {
        "id": "49XOggK_ZZE3"
      },
      "id": "49XOggK_ZZE3",
      "execution_count": null,
      "outputs": []
    }
  ],
  "metadata": {
    "kernelspec": {
      "display_name": "Python 3 (ipykernel)",
      "language": "python",
      "name": "python3"
    },
    "language_info": {
      "codemirror_mode": {
        "name": "ipython",
        "version": 3
      },
      "file_extension": ".py",
      "mimetype": "text/x-python",
      "name": "python",
      "nbconvert_exporter": "python",
      "pygments_lexer": "ipython3",
      "version": "3.9.12"
    },
    "colab": {
      "provenance": [],
      "include_colab_link": true
    }
  },
  "nbformat": 4,
  "nbformat_minor": 5
}